{
 "cells": [
  {
   "cell_type": "code",
   "execution_count": 15,
   "metadata": {},
   "outputs": [
    {
     "data": {
      "text/html": [
       "<div>\n",
       "<style scoped>\n",
       "    .dataframe tbody tr th:only-of-type {\n",
       "        vertical-align: middle;\n",
       "    }\n",
       "\n",
       "    .dataframe tbody tr th {\n",
       "        vertical-align: top;\n",
       "    }\n",
       "\n",
       "    .dataframe thead th {\n",
       "        text-align: right;\n",
       "    }\n",
       "</style>\n",
       "<table border=\"1\" class=\"dataframe\">\n",
       "  <thead>\n",
       "    <tr style=\"text-align: right;\">\n",
       "      <th></th>\n",
       "      <th>Name</th>\n",
       "      <th>Image</th>\n",
       "      <th>Ingredients</th>\n",
       "      <th>Price</th>\n",
       "    </tr>\n",
       "  </thead>\n",
       "  <tbody>\n",
       "    <tr>\n",
       "      <th>0</th>\n",
       "      <td>Idly</td>\n",
       "      <td>./Imgs/pic2.jpeg</td>\n",
       "      <td>Idli rice, Urad dal, Fenugreek seeds, Salt, Water</td>\n",
       "      <td>20</td>\n",
       "    </tr>\n",
       "    <tr>\n",
       "      <th>1</th>\n",
       "      <td>Dosa</td>\n",
       "      <td>./Imgs/pic2.jpeg</td>\n",
       "      <td>Rice, Urad dal, Fenugreek seeds, Salt, Water, Oil</td>\n",
       "      <td>30</td>\n",
       "    </tr>\n",
       "  </tbody>\n",
       "</table>\n",
       "</div>"
      ],
      "text/plain": [
       "   Name             Image                                        Ingredients  \\\n",
       "0  Idly  ./Imgs/pic2.jpeg  Idli rice, Urad dal, Fenugreek seeds, Salt, Water   \n",
       "1  Dosa  ./Imgs/pic2.jpeg  Rice, Urad dal, Fenugreek seeds, Salt, Water, Oil   \n",
       "\n",
       "   Price  \n",
       "0     20  \n",
       "1     30  "
      ]
     },
     "execution_count": 15,
     "metadata": {},
     "output_type": "execute_result"
    }
   ],
   "source": [
    "import pandas as pd\n",
    "data = pd.read_csv(\"menu.csv\")\n",
    "data.head()"
   ]
  },
  {
   "cell_type": "code",
   "execution_count": 16,
   "metadata": {},
   "outputs": [
    {
     "name": "stdout",
     "output_type": "stream",
     "text": [
      "Idly-./Imgs/pic2.jpeg-Idli rice- Urad dal- Fenugreek seeds- Salt- Water-20_Dosa-./Imgs/pic2.jpeg-Rice- Urad dal- Fenugreek seeds- Salt- Water- Oil-30\n"
     ]
    }
   ],
   "source": [
    "dishes = data.iloc[:, 0].to_numpy()\n",
    "prices = data.iloc[:, -1].to_numpy()\n",
    "menu = \"\"\n",
    "for index, row in data.iterrows():\n",
    "    ingred = row['Ingredients'].replace(\",\", \"-\")\n",
    "    menu += f\"{row['Name']}-{row['Image']}-{ingred}-{row['Price']}_\"\n",
    "menu = menu[:-1]\n",
    "print(menu)"
   ]
  },
  {
   "cell_type": "code",
   "execution_count": 17,
   "metadata": {},
   "outputs": [],
   "source": [
    "import google.generativeai as genai\n",
    "from dotenv import load_dotenv\n",
    "import os\n",
    "load_dotenv()\n",
    "\n",
    "genai.configure(api_key=os.getenv('API_KEY'))"
   ]
  },
  {
   "cell_type": "code",
   "execution_count": 18,
   "metadata": {},
   "outputs": [],
   "source": [
    "generation_config = {\"temperature\": 0.9, \"top_p\": 1, \"top_k\": 1, \"max_output_tokens\": 2048}\n",
    "\n",
    "safety_settings = [\n",
    "    {\"category\": \"HARM_CATEGORY_HARASSMENT\", \"threshold\": \"BLOCK_MEDIUM_AND_ABOVE\"},\n",
    "    {\"category\": \"HARM_CATEGORY_HATE_SPEECH\", \"threshold\": \"BLOCK_MEDIUM_AND_ABOVE\"},\n",
    "    {\"category\": \"HARM_CATEGORY_SEXUALLY_EXPLICIT\", \"threshold\": \"BLOCK_MEDIUM_AND_ABOVE\"},\n",
    "    {\"category\": \"HARM_CATEGORY_DANGEROUS_CONTENT\", \"threshold\": \"BLOCK_MEDIUM_AND_ABOVE\"}\n",
    "]\n",
    "\n",
    "txtModel = genai.GenerativeModel(model_name=\"gemini-1.0-pro\",\n",
    "generation_config=generation_config,\n",
    "safety_settings=safety_settings)\n",
    "\n",
    "imgModel = genai.GenerativeModel(\"gemini-pro-vision\")\n"
   ]
  },
  {
   "cell_type": "code",
   "execution_count": 19,
   "metadata": {},
   "outputs": [
    {
     "name": "stdout",
     "output_type": "stream",
     "text": [
      "accepted, no spelling mistakes found\n"
     ]
    }
   ],
   "source": [
    "convo = txtModel.start_chat(history=[])\n",
    "convo.send_message(f\"Identify any spelling mistakes in the menu: {data}\\n to accept or reject the menu with a valid reason\\nNote:ouput should be in the format - \\\"accepted/rejected,no spelling mistakes found/spelling mistake found in dish_name: \\\"mistake\\\" should be \\\"correct spelling\\\"\\\"\")\n",
    "spelling = convo.last.text\n",
    "print(spelling)"
   ]
  },
  {
   "cell_type": "code",
   "execution_count": 20,
   "metadata": {},
   "outputs": [
    {
     "name": "stdout",
     "output_type": "stream",
     "text": [
      "9, accepted, no ingredient mistakes found\n"
     ]
    }
   ],
   "source": [
    "convo = txtModel.start_chat(history=[])\n",
    "convo.send_message(f\"Identify any incorrect ingredient present in the dishes in the menu: {data}\\n to accept or reject the menu with a valid reason\\n scale your confidence about your decision between 1 to 10\\nNote:ouput should be in the format - \\\"confidence points, accepted/rejected, no ingredient mistakes found/ingredient mistake found in dish_name: \\\"mistake\\\" will not be used in the dish_name\\\"\")\n",
    "ingredients = convo.last.text\n",
    "print(ingredients)"
   ]
  },
  {
   "cell_type": "code",
   "execution_count": 21,
   "metadata": {},
   "outputs": [
    {
     "name": "stdout",
     "output_type": "stream",
     "text": [
      "South Indian\n",
      "veg\n",
      "South Indian\n",
      "veg\n"
     ]
    }
   ],
   "source": [
    "convo = txtModel.start_chat(history=[])\n",
    "cusineLst = []\n",
    "vegLst = []\n",
    "for index, row in data.iterrows():\n",
    "    convo.send_message(f\"Identify the cusine of the dish: {row['Name']}\\nNote:ouput should be in one format - \\\"cusine\\\"\")\n",
    "    cusine = convo.last.text\n",
    "    cusineLst.append(cusine)\n",
    "    print(cusine)\n",
    "    convo.send_message(f\"Identify the whether the dish: {row['Name']} is vegetarian or not with respect to the ingredients: {row['Ingredients']}\\nNote:ouput should be in one format - \\\"veg/non-veg\\\"\")\n",
    "    veg = convo.last.text\n",
    "    vegLst.append(veg)\n",
    "    print(veg)"
   ]
  },
  {
   "cell_type": "code",
   "execution_count": 22,
   "metadata": {},
   "outputs": [
    {
     "name": "stdout",
     "output_type": "stream",
     "text": [
      "Counter({'South Indian': 2})\n",
      "accepted, the Cusine of all dishes are matching\n"
     ]
    },
    {
     "data": {
      "text/plain": [
       "'\\nVada,./Imgs/pic1.jpeg,\"Idli rice, Urad dal, Fenugreek seeds, Salt, Water\",20\\nPongal,./Imgs/pic2.jpeg,\"Rice, Urad dal, Fenugreek seeds, Salt, Water, Oil\",30\\nPoori,./Imgs/pic1.jpeg,\"Idli rice, Urad dal, Fenugreek seeds, Salt, Water\",20\\n'"
      ]
     },
     "execution_count": 22,
     "metadata": {},
     "output_type": "execute_result"
    }
   ],
   "source": [
    "from collections import Counter\n",
    "def cusineEvaluator():\n",
    "    ans = \"\"\n",
    "    countDct = Counter(cusineLst)\n",
    "    print(countDct)\n",
    "    for key, val in countDct.items():\n",
    "        if val == 1:\n",
    "            ind = cusineLst.index(key)\n",
    "            ans = f\"rejected, the Cusine of {dishes[ind]} does not match with rest of the dishes\"\n",
    "            return ans\n",
    "        if val <= len(dishes)/3:\n",
    "            ind = cusineLst.index(key)\n",
    "            ans = f\"manual, the Cusine of {dishes[ind]} does not match with rest of the dishes\"\n",
    "            return ans\n",
    "    ans = f\"accepted, the Cusine of all dishes are matching\"\n",
    "    return ans\n",
    "print(cusineEvaluator())\n",
    "\n",
    "\"\"\"\n",
    "Vada,./Imgs/pic1.jpeg,\"Idli rice, Urad dal, Fenugreek seeds, Salt, Water\",20\n",
    "Pongal,./Imgs/pic2.jpeg,\"Rice, Urad dal, Fenugreek seeds, Salt, Water, Oil\",30\n",
    "Poori,./Imgs/pic1.jpeg,\"Idli rice, Urad dal, Fenugreek seeds, Salt, Water\",20\n",
    "\"\"\""
   ]
  },
  {
   "cell_type": "code",
   "execution_count": 23,
   "metadata": {},
   "outputs": [
    {
     "name": "stdout",
     "output_type": "stream",
     "text": [
      "Counter({'veg': 2})\n",
      "accepted, the veg of all dishes are matching\n"
     ]
    }
   ],
   "source": [
    "def vegEvaluator():\n",
    "    ans = \"\"\n",
    "    countDct = Counter(vegLst)\n",
    "    print(countDct)\n",
    "    for key, val in countDct.items():\n",
    "        if val == 1:\n",
    "            ind = vegLst.index(key)\n",
    "            ans = f\"rejected, this {dishes[ind]} is {key} and not matching with rest of the dishes\"\n",
    "            return ans\n",
    "        if val <= len(dishes)/3:\n",
    "            ind = vegLst.index(key)\n",
    "            ans = f\"manual, this {dishes[ind]} is {key} and not matching with rest of the dishes\"\n",
    "            return ans\n",
    "    ans = f\"accepted, the veg of all dishes are matching\"\n",
    "    return ans\n",
    "print(vegEvaluator())"
   ]
  },
  {
   "cell_type": "code",
   "execution_count": 24,
   "metadata": {},
   "outputs": [
    {
     "name": "stdout",
     "output_type": "stream",
     "text": [
      "8, cheap, Idly is a staple breakfast food in South India and is typically very affordable. 20 rupees is a reasonable price for a plate of idlis.\n",
      "7, normal, Dosa is a popular South Indian dish that is typically served with chutney and sambar. 30 rupees is a fair price for a dosa, especially if it is made with good quality ingredients. However, the price may be considered slightly overpriced in some areas.\n"
     ]
    }
   ],
   "source": [
    "for i in range(len(dishes)):\n",
    "    convo.send_message(f\"Is {prices[i]} rupees for the dish: {dishes[i]} is (cheap, normal, overpriced)\\n to accept or reject the dish with a valid reason\\n scale your confidence about your decision between 1 to 10\\nNote:ouput should be in the format - \\\"confidence points, accepted/rejected, reason\\\"\")\n",
    "    pricing = convo.last.text\n",
    "    print(pricing)"
   ]
  },
  {
   "cell_type": "code",
   "execution_count": 38,
   "metadata": {},
   "outputs": [
    {
     "name": "stdout",
     "output_type": "stream",
     "text": [
      "[' 90', 'Masala Dosa']\n",
      "90, rejected, Masala Dosa and Idly are not the same dish. Masala dosa is a type of dosa that is filled with a potato and onion mixture, while idli is a steamed cake made from a batter of fermented rice and lentils. While both dishes are popular in South India, they have different textures, flavors, and shapes.\n",
      " 80, accepted, no image mistakes found\n",
      "[' 90', ' Masala Dosa']\n",
      "90, accepted, Masala Dosa and Dosa are the same dish. Masala dosa is a type of dosa that is filled with a potato and onion mixture. It is one of the most popular dishes in South India.\n",
      " 80, accepted, no image mistakes found\n"
     ]
    }
   ],
   "source": [
    "import PIL.Image\n",
    "\n",
    "for index, row in data.iterrows():\n",
    "    img = PIL.Image.open(row[\"Image\"])\n",
    "    imgMistakeResponse = imgModel.generate_content([f\"what is the dish in the image\\n scale your confidence about your dish identification between 1 to 100\\nNote:ouput should be in the format - \\\"<confidence points>,<dish_name>\", img])\n",
    "    imgDish = imgMistakeResponse.text\n",
    "    imgDish = imgDish.split(\",\")\n",
    "    print(imgDish)\n",
    "    convo.send_message(f\"Is {imgDish[1]} and {dishes[index]} same?\\n to accept or reject the dish with a valid reason if they are same\\n scale your confidence about your decision between 1 to 10\\nNote:ouput should be in the format - \\\"<confidence points>, accepted/rejected, <dish and the image are same>/mistake reason\\\"\")\n",
    "    imgDishMistake = convo.last.text\n",
    "    print(imgDishMistake)\n",
    "    qualityResponse = imgModel.generate_content([f\"Based on the visual cues analyze the given image for hygiene, color, texture and consistency.\\n to accept or reject the dish with a valid reason\\n scale your confidence about your dish identification between 1 to 100\\nNote:ouput should be in the format- \\\"<confidence points>, accepted/rejected, <no image mistakes found>/mistake reason\", img])\n",
    "    quality = qualityResponse.text\n",
    "    print(quality)\n"
   ]
  }
 ],
 "metadata": {
  "kernelspec": {
   "display_name": "mistralenv",
   "language": "python",
   "name": "python3"
  },
  "language_info": {
   "codemirror_mode": {
    "name": "ipython",
    "version": 3
   },
   "file_extension": ".py",
   "mimetype": "text/x-python",
   "name": "python",
   "nbconvert_exporter": "python",
   "pygments_lexer": "ipython3",
   "version": "3.10.13"
  }
 },
 "nbformat": 4,
 "nbformat_minor": 2
}
