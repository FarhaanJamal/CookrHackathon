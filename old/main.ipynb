{
 "cells": [
  {
   "cell_type": "code",
   "execution_count": 1,
   "metadata": {},
   "outputs": [
    {
     "name": "stderr",
     "output_type": "stream",
     "text": [
      "C:\\Users\\farha\\AppData\\Local\\Temp\\ipykernel_22020\\500525866.py:1: DeprecationWarning: \n",
      "Pyarrow will become a required dependency of pandas in the next major release of pandas (pandas 3.0),\n",
      "(to allow more performant data types, such as the Arrow string type, and better interoperability with other libraries)\n",
      "but was not found to be installed on your system.\n",
      "If this would cause problems for you,\n",
      "please provide us feedback at https://github.com/pandas-dev/pandas/issues/54466\n",
      "        \n",
      "  import pandas as pd\n"
     ]
    },
    {
     "data": {
      "text/html": [
       "<div>\n",
       "<style scoped>\n",
       "    .dataframe tbody tr th:only-of-type {\n",
       "        vertical-align: middle;\n",
       "    }\n",
       "\n",
       "    .dataframe tbody tr th {\n",
       "        vertical-align: top;\n",
       "    }\n",
       "\n",
       "    .dataframe thead th {\n",
       "        text-align: right;\n",
       "    }\n",
       "</style>\n",
       "<table border=\"1\" class=\"dataframe\">\n",
       "  <thead>\n",
       "    <tr style=\"text-align: right;\">\n",
       "      <th></th>\n",
       "      <th>Name</th>\n",
       "      <th>Type</th>\n",
       "      <th>Quantity</th>\n",
       "      <th>Ingredients</th>\n",
       "      <th>Price</th>\n",
       "    </tr>\n",
       "  </thead>\n",
       "  <tbody>\n",
       "    <tr>\n",
       "      <th>0</th>\n",
       "      <td>Burger</td>\n",
       "      <td>Patty</td>\n",
       "      <td>1 Nos</td>\n",
       "      <td>Burger bun, patty (beef, chicken, or veg), let...</td>\n",
       "      <td>100</td>\n",
       "    </tr>\n",
       "    <tr>\n",
       "      <th>1</th>\n",
       "      <td>Sandwich</td>\n",
       "      <td>Layered</td>\n",
       "      <td>1 Nos</td>\n",
       "      <td>Bread slices, filling (vegetables, cheese, mea...</td>\n",
       "      <td>60</td>\n",
       "    </tr>\n",
       "    <tr>\n",
       "      <th>2</th>\n",
       "      <td>Pizza</td>\n",
       "      <td>Cheesy</td>\n",
       "      <td>1 medium</td>\n",
       "      <td>Pizza dough, pizza sauce, cheese, toppings (pe...</td>\n",
       "      <td>300</td>\n",
       "    </tr>\n",
       "    <tr>\n",
       "      <th>3</th>\n",
       "      <td>French Fries</td>\n",
       "      <td>Crispy</td>\n",
       "      <td>250 grams</td>\n",
       "      <td>Potatoes, oil, salt</td>\n",
       "      <td>80</td>\n",
       "    </tr>\n",
       "    <tr>\n",
       "      <th>4</th>\n",
       "      <td>Hot Dogs</td>\n",
       "      <td>Snappier</td>\n",
       "      <td>2 Nos</td>\n",
       "      <td>Hotdog buns, sausages (chicken, pork, beef), m...</td>\n",
       "      <td>120</td>\n",
       "    </tr>\n",
       "  </tbody>\n",
       "</table>\n",
       "</div>"
      ],
      "text/plain": [
       "           Name      Type   Quantity  \\\n",
       "0        Burger     Patty      1 Nos   \n",
       "1      Sandwich   Layered      1 Nos   \n",
       "2         Pizza    Cheesy   1 medium   \n",
       "3  French Fries    Crispy  250 grams   \n",
       "4      Hot Dogs  Snappier      2 Nos   \n",
       "\n",
       "                                         Ingredients  Price  \n",
       "0  Burger bun, patty (beef, chicken, or veg), let...    100  \n",
       "1  Bread slices, filling (vegetables, cheese, mea...     60  \n",
       "2  Pizza dough, pizza sauce, cheese, toppings (pe...    300  \n",
       "3                                Potatoes, oil, salt     80  \n",
       "4  Hotdog buns, sausages (chicken, pork, beef), m...    120  "
      ]
     },
     "execution_count": 1,
     "metadata": {},
     "output_type": "execute_result"
    }
   ],
   "source": [
    "import pandas as pd\n",
    "\n",
    "data = pd.read_csv(\"menu.csv\")\n",
    "data.head()"
   ]
  },
  {
   "cell_type": "code",
   "execution_count": 2,
   "metadata": {},
   "outputs": [],
   "source": [
    "from translate import Translator\n",
    "\n",
    "location = \"Coimbatore\"\n",
    "language = \"Tamil\"\n",
    "if language == \"Tamil\":\n",
    "    translator = Translator(to_lang='ta')\n",
    "elif language == \"Hindi\":\n",
    "    translator = Translator(to_lang='hindi')\n"
   ]
  },
  {
   "cell_type": "code",
   "execution_count": 3,
   "metadata": {},
   "outputs": [
    {
     "name": "stdout",
     "output_type": "stream",
     "text": [
      "[['Burger', 'Patty', '1 Nos', 'Burger bun, patty (beef, chicken, or veg), lettuce, tomato, onion, cheese, sauce (mayonnaise, ketchup), pickles', 100], ['Sandwich', 'Layered', '1 Nos', 'Bread slices, filling (vegetables, cheese, meat), butter, sauce (mayonnaise, mustard)', 60], ['Pizza', 'Cheesy', '1 medium', 'Pizza dough, pizza sauce, cheese, toppings (pepperoni, vegetables, etc.), herbs (basil, oregano), olive oil', 300], ['French Fries', 'Crispy', '250 grams', 'Potatoes, oil, salt', 80], ['Hot Dogs', 'Snappier', '2 Nos', 'Hotdog buns, sausages (chicken, pork, beef), mustard, ketchup, onions, relish', 120]]\n"
     ]
    }
   ],
   "source": [
    "dataLst = []\n",
    "\n",
    "for index, row in data.iterrows():\n",
    "    dataLst.append([row['Name'], row['Type'], row['Quantity'], row['Ingredients'], row['Price']])\n",
    "print(dataLst)"
   ]
  },
  {
   "cell_type": "code",
   "execution_count": 4,
   "metadata": {},
   "outputs": [
    {
     "name": "stderr",
     "output_type": "stream",
     "text": [
      "c:\\Users\\farha\\anaconda3\\envs\\mistralenv\\lib\\site-packages\\tqdm\\auto.py:21: TqdmWarning: IProgress not found. Please update jupyter and ipywidgets. See https://ipywidgets.readthedocs.io/en/stable/user_install.html\n",
      "  from .autonotebook import tqdm as notebook_tqdm\n"
     ]
    }
   ],
   "source": [
    "import google.generativeai as genai\n",
    "from dotenv import load_dotenv\n",
    "import os\n",
    "load_dotenv()\n",
    "\n",
    "genai.configure(api_key=os.getenv('API_KEY'))"
   ]
  },
  {
   "cell_type": "code",
   "execution_count": 5,
   "metadata": {},
   "outputs": [
    {
     "name": "stdout",
     "output_type": "stream",
     "text": [
      " Pizza\n",
      " [Pizza base, tomato sauce, cheese (mozzarella, cheddar, parmesan), basil leaves]\n",
      " This is a cheese pizza. The pizza has a thin crust and is topped with melted cheese and basil. The crust is golden brown and the cheese is bubbly and slightly browned. The pizza has a crispy texture and a slightly smoky flavor. The dominant tastes are cheese and tomato sauce.\n"
     ]
    }
   ],
   "source": [
    "import PIL.Image\n",
    "\n",
    "img = PIL.Image.open(\"pic.jpeg\")\n",
    "\n",
    "imgModel = genai.GenerativeModel(\"gemini-pro-vision\")\n",
    "response = imgModel.generate_content([\"What is the name of the dish\\nNote:ouput should be in one word format - \\\"dish\\\"\", img])\n",
    "imgDish = response.text\n",
    "\n",
    "response = imgModel.generate_content([\"what all ingredients are there in this food image, give me the ingredients in list. always give in english language.\\nNote:ouput should be in the format - \\\"[Burger bun, patty (beef, chicken, or veg), lettuce, tomato, onion, cheese, sauce (mayonnaise, ketchup), pickles]\\\"\", img])\n",
    "imgIngredients = response.text\n",
    "\n",
    "response = imgModel.generate_content([\"I have given you a image of a cooked food, give me 1 min of reading content in english Describe the pictured dish in 30 words not more than that. Analyze the cooking style based on visual clues like browning, charring, or visible moisture. Based on these indicators, predict the flavor profile. Mention potential textures and dominant tastes (e.g., smoky, savory, sweet). the response should not be more than 30 words\", img])\n",
    "imgDiscription = response.text\n",
    "\n",
    "\n",
    "print(f\"{imgDish}\\n{imgIngredients}\\n{imgDiscription}\")"
   ]
  },
  {
   "cell_type": "code",
   "execution_count": 9,
   "metadata": {},
   "outputs": [],
   "source": [
    "generation_config = {\"temperature\": 0.9, \"top_p\": 1, \"top_k\": 1, \"max_output_tokens\": 2048}\n",
    "\n",
    "safety_settings = [\n",
    "    {\"category\": \"HARM_CATEGORY_HARASSMENT\", \"threshold\": \"BLOCK_MEDIUM_AND_ABOVE\"},\n",
    "    {\"category\": \"HARM_CATEGORY_HATE_SPEECH\", \"threshold\": \"BLOCK_MEDIUM_AND_ABOVE\"},\n",
    "    {\"category\": \"HARM_CATEGORY_SEXUALLY_EXPLICIT\", \"threshold\": \"BLOCK_MEDIUM_AND_ABOVE\"},\n",
    "    {\"category\": \"HARM_CATEGORY_DANGEROUS_CONTENT\", \"threshold\": \"BLOCK_MEDIUM_AND_ABOVE\"}\n",
    "]\n",
    "\n",
    "txtModel = genai.GenerativeModel(model_name=\"gemini-1.0-pro\",\n",
    "generation_config=generation_config,\n",
    "safety_settings=safety_settings)\n",
    "\n",
    "convo = txtModel.start_chat(history=[])\n"
   ]
  },
  {
   "cell_type": "code",
   "execution_count": 10,
   "metadata": {},
   "outputs": [
    {
     "name": "stdout",
     "output_type": "stream",
     "text": [
      "american\n"
     ]
    }
   ],
   "source": [
    "dishes = data.iloc[:, 0]\n",
    "#print(dishes.to_numpy())\n",
    "\n",
    "convo.send_message(f\"What is the overall cusine for {dishes.to_numpy} from (american, indian, chineese)\\nNote:ouput should be in one word format - \\\"cusine\\\"\")\n",
    "cusine = convo.last.text\n",
    "print(cusine)\n"
   ]
  },
  {
   "cell_type": "code",
   "execution_count": 11,
   "metadata": {},
   "outputs": [
    {
     "name": "stdout",
     "output_type": "stream",
     "text": [
      "Macaroni, Pancakes\n"
     ]
    }
   ],
   "source": [
    "convo.send_message(f\"Based on the cusine give me two more dishes apart from {dishes}\\nNote:ouput should be in the format - \\\"dish1, dish2\\\"\")\n",
    "extraDishes = convo.last.text\n",
    "print(extraDishes)"
   ]
  },
  {
   "cell_type": "code",
   "execution_count": 12,
   "metadata": {},
   "outputs": [
    {
     "name": "stdout",
     "output_type": "stream",
     "text": [
      "2\n"
     ]
    }
   ],
   "source": [
    "convo = txtModel.start_chat(history=[])\n",
    "\n",
    "convo.send_message(f\"Give me the index of {imgDish} in the list: {dishes}\\nNote:ouput should be in one number format - \\\"index\\\"\")\n",
    "dishIndex = convo.last.text\n",
    "print(dishIndex)"
   ]
  },
  {
   "cell_type": "code",
   "execution_count": 14,
   "metadata": {},
   "outputs": [
    {
     "name": "stdout",
     "output_type": "stream",
     "text": [
      "['Pizza', 'Cheesy', '1 medium', 'Pizza dough, pizza sauce, cheese, toppings (pepperoni, vegetables, etc.), herbs (basil, oregano), olive oil', 300]\n",
      "Pizza dough, pizza sauce, cheese, toppings (pepperoni, vegetables, etc.), herbs (basil, oregano), olive oil, zza base, tomato sauce, cheese (mozzarella, cheddar, parmesan), basil leave\n"
     ]
    }
   ],
   "source": [
    "#imgIngredients = \"[Pizza base, tomato sauce, cheese, basil]\"\n",
    "imgIngredients = imgIngredients[2:-1]\n",
    "\n",
    "curDish = dataLst[int(dishIndex)]\n",
    "print(curDish)\n",
    "curIngredients = curDish[3] + \", \" + imgIngredients\n",
    "print(curIngredients)"
   ]
  },
  {
   "cell_type": "code",
   "execution_count": 15,
   "metadata": {},
   "outputs": [
    {
     "name": "stdout",
     "output_type": "stream",
     "text": [
      "[calories:2500, carbohydrates:400g, protein:150g, fat:100g, sodium:2500mg, fiber:20g]\n"
     ]
    }
   ],
   "source": [
    "convo = txtModel.start_chat(history=[])\n",
    "\n",
    "convo.send_message(f\"for the dish: \\\"{curDish[0]}\\\"give me the nutrients with respect to the ingredients: \\\"{curIngredients}\\\", type: \\\"{curDish[1]}\\\" and quantity: \\\"{curDish[2]}\\\"\\nNote:ouput should be in the format - \\\"[calories:100, carbohydrates:75g, ...]\\\"\")\n",
    "nutrients = convo.last.text\n",
    "print(nutrients)"
   ]
  },
  {
   "cell_type": "code",
   "execution_count": 16,
   "metadata": {},
   "outputs": [
    {
     "name": "stdout",
     "output_type": "stream",
     "text": [
      "budget\n"
     ]
    }
   ],
   "source": [
    "convo.send_message(f\"Is {curDish[4]} rupees for the above dish is (cheap, budget, overpriced) in {location}\\nNote:ouput should be in one word format - \\\"pricing\\\"\")\n",
    "pricing = convo.last.text\n",
    "print(pricing)"
   ]
  },
  {
   "cell_type": "code",
   "execution_count": 17,
   "metadata": {},
   "outputs": [
    {
     "name": "stdout",
     "output_type": "stream",
     "text": [
      "yes-The dish contains all of the required nutrients in the correct proportions.\n"
     ]
    }
   ],
   "source": [
    "convo.send_message(f\"Is the above dish met the fssai standards?\\nIf yes give the reason, if on give me the discrepency\\nNote:ouput should be in the format - \\\"yes/no-reason\\\"\")\n",
    "fssai = convo.last.text\n",
    "print(fssai)"
   ]
  },
  {
   "cell_type": "code",
   "execution_count": 18,
   "metadata": {},
   "outputs": [
    {
     "name": "stdout",
     "output_type": "stream",
     "text": [
      "This cheesy pizza is a delicious and satisfying meal. The crust is crispy and the toppings are generous. The cheese is melted and gooey, and the sauce is flavorful. Overall, this is a great pizza that I would highly recommend.\n",
      "இந்த சீசி பீட்சா ஒரு சுவையான மற்றும் திருப்திகரமான உணவு. மேலோடு மிருதுவானது மற்றும் மேல்புறங்கள் தாராளமானவை. பாலாடைக்கட்டி உருகுகிறது மற்றும் கூவிக்கொள்கிறது, மேலும் சாஸ் சுவையாக இருக்கிறது. ஒட்டுமொத்தமாக, இது நான் மிகவும் பரிந்துரைக்கும் ஒரு சிறந்த பீட்சா.\n"
     ]
    }
   ],
   "source": [
    "convo.send_message(f\"write a review for the above dish in 30 words\")\n",
    "review = convo.last.text\n",
    "print(review)\n",
    "print(translator.translate(review))"
   ]
  },
  {
   "cell_type": "code",
   "execution_count": 19,
   "metadata": {},
   "outputs": [
    {
     "name": "stdout",
     "output_type": "stream",
     "text": [
      "[4.5]\n"
     ]
    }
   ],
   "source": [
    "convo.send_message(f\"give me a rating for the above dish out of 5\\nNote:ouput should be in one float format - \\\"[rating]\\\"\")\n",
    "rating = convo.last.text\n",
    "print(rating)"
   ]
  },
  {
   "cell_type": "code",
   "execution_count": 20,
   "metadata": {},
   "outputs": [
    {
     "name": "stdout",
     "output_type": "stream",
     "text": [
      "[Domino's, Mozzarella Pizza Cafe, The Pizza Place, Pizza Corner, Cheese Factory]\n"
     ]
    }
   ],
   "source": [
    "convo = txtModel.start_chat(history=[])\n",
    "restaurent = \"pizza hut\"\n",
    "convo.send_message(f\"give me 5 restarents other then {restaurent} that serve {curDish[0]} in {location}\\nNote:ouput should be in the format - \\\"[restaurent1, restaurent2, ...]\\\"\")\n",
    "otherRestaurents = convo.last.text\n",
    "print(otherRestaurents)"
   ]
  }
 ],
 "metadata": {
  "kernelspec": {
   "display_name": "mistralenv",
   "language": "python",
   "name": "python3"
  },
  "language_info": {
   "codemirror_mode": {
    "name": "ipython",
    "version": 3
   },
   "file_extension": ".py",
   "mimetype": "text/x-python",
   "name": "python",
   "nbconvert_exporter": "python",
   "pygments_lexer": "ipython3",
   "version": "3.10.13"
  }
 },
 "nbformat": 4,
 "nbformat_minor": 2
}
